{
 "cells": [
  {
   "cell_type": "code",
   "execution_count": 13,
   "metadata": {},
   "outputs": [],
   "source": [
    "import numpy as np \n",
    "import matplotlib.pyplot as plt \n",
    "import math \n",
    "import random\n",
    "\n",
    "SampleSize = 20\n",
    "MinValue = 1\n",
    "MaxValue = 6\n",
    "BinWidth = 1/SampleSize\n",
    "SampleMeanValues = []\n",
    "\n",
    "RandomVariableValues = np.linspace((MinValue-1),(MaxValue+1),int(((MaxValue+1)-(MinValue-1))/BinWidth))\n",
    "Frequency = [0]*int((((MaxValue+1)-(MinValue-1))/BinWidth))\n",
    "\n",
    "for i in range(0,10000):\n",
    "     \n",
    "    Sample = np.random.randint(1,7,(1,SampleSize))\n",
    "    \n",
    "    SampleMean = np.mean(Sample)\n",
    "    \n",
    "    SampleMeanValues.append(SampleMean)\n",
    "    \n",
    "    Frequency[int(SampleMean/BinWidth)] += 1"
   ]
  },
  {
   "cell_type": "code",
   "execution_count": 12,
   "metadata": {},
   "outputs": [
    {
     "data": {
      "image/png": "[encoded data removed]",
      "text/plain": [
       "<matplotlib.figure.Figure at 0x2142318e3c8>"
      ]
     },
     "metadata": {},
     "output_type": "display_data"
    }
   ],
   "source": [
    "plt.scatter(RandomVariableValues,Frequency)\n",
    "plt.show()"
   ]
  },
  {
   "cell_type": "code",
   "execution_count": 15,
   "metadata": {},
   "outputs": [],
   "source": [
    "SampleSize = 30\n",
    "MinValue = 1\n",
    "MaxValue = 6\n",
    "BinWidth = 0.5\n",
    "MedianValues = []\n",
    "\n",
    "RandomVariableValues = np.linspace((MinValue-1),(MaxValue+1),int(((MaxValue+1)-(MinValue-1))/BinWidth))\n",
    "Frequency = [0]*int((((MaxValue+1)-(MinValue-1))/BinWidth))\n",
    "\n",
    "for i in range(0,10000):\n",
    "     \n",
    "    Sample = np.random.randint(1,7,(1,SampleSize))\n",
    "    \n",
    "    Sample.sort()\n",
    "    \n",
    "    if len(Sample[0]) % 2 == 0:\n",
    "        \n",
    "        Median = (Sample[0][int((len(Sample[0])-1)/2)] + Sample[0][int((len(Sample[0])-1)/2)+1])/2\n",
    "        \n",
    "    else:\n",
    "        \n",
    "        Median = Sample[0][int((len(Sample[0])-1)/2)]\n",
    "    \n",
    "    MedianValues.append(Median)\n",
    "        \n",
    "    Frequency[int(Median/BinWidth)] += 1"
   ]
  },
  {
   "cell_type": "code",
   "execution_count": 16,
   "metadata": {},
   "outputs": [
    {
     "data": {
      "image/png": "[encoded data removed]",
      "text/plain": [
       "<matplotlib.figure.Figure at 0x208435e99b0>"
      ]
     },
     "metadata": {},
     "output_type": "display_data"
    }
   ],
   "source": [
    "plt.scatter(RandomVariableValues,Frequency)\n",
    "plt.show()"
   ]
  },
  {
   "cell_type": "code",
   "execution_count": null,
   "metadata": {},
   "outputs": [],
   "source": []
  },
  {
   "cell_type": "code",
   "execution_count": null,
   "metadata": {
    "collapsed": true
   },
   "outputs": [],
   "source": []
  }
 ],
 "metadata": {
  "kernelspec": {
   "display_name": "Python 3",
   "language": "python",
   "name": "python3"
  },
  "language_info": {
   "codemirror_mode": {
    "name": "ipython",
    "version": 3
   },
   "file_extension": ".py",
   "mimetype": "text/x-python",
   "name": "python",
   "nbconvert_exporter": "python",
   "pygments_lexer": "ipython3",
   "version": "3.6.4"
  }
 },
 "nbformat": 4,
 "nbformat_minor": 2
}
